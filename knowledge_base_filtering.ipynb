{
 "cells": [
  {
   "cell_type": "code",
   "execution_count": 2,
   "metadata": {},
   "outputs": [],
   "source": [
    "import pandas as pd\n"
   ]
  },
  {
   "cell_type": "code",
   "execution_count": 3,
   "metadata": {},
   "outputs": [],
   "source": [
    "\n",
    "# Sample movie dataset\n",
    "data = {\n",
    "    'MovieID': [1, 2, 3, 4, 5],\n",
    "    'Title': ['Movie A', 'Movie B', 'Movie C', 'Movie D', 'Movie E'],\n",
    "    'Genres': ['Action', 'Drama', 'Comedy', 'Action|Adventure', 'Drama|Romance']\n",
    "}\n",
    "\n",
    "movies_df = pd.DataFrame(data)\n"
   ]
  },
  {
   "cell_type": "code",
   "execution_count": 4,
   "metadata": {},
   "outputs": [],
   "source": [
    "\n",
    "\n",
    "\n",
    "def recommend_movies(user_preferences, movies_df, num_recommendations=5):\n",
    "    # Split user preferences into a list of selected genres\n",
    "    selected_genres = user_preferences.split(',')\n",
    "\n",
    "    # Create a mask to filter movies that match the user's preferences\n",
    "    mask = movies_df['Genres'].str.contains('|'.join(selected_genres), case=False)\n",
    "\n",
    "    # Filter movies based on the mask\n",
    "    recommended_movies = movies_df[mask]\n",
    "\n",
    "    # Randomly shuffle the recommended movies (you can use more advanced ranking techniques)\n",
    "    recommended_movies = recommended_movies.sample(frac=1)\n",
    "\n",
    "    # Return the top N recommendations\n",
    "    return recommended_movies.head(num_recommendations)\n"
   ]
  },
  {
   "cell_type": "code",
   "execution_count": 5,
   "metadata": {},
   "outputs": [
    {
     "name": "stdout",
     "output_type": "stream",
     "text": [
      "   MovieID    Title            Genres\n",
      "3        4  Movie D  Action|Adventure\n",
      "0        1  Movie A            Action\n"
     ]
    }
   ],
   "source": [
    "\n",
    "# Example user preferences (comma-separated genres)\n",
    "user_preferences = 'Action,Adventure'\n",
    "\n",
    "# Get movie recommendations for the user\n",
    "recommendations = recommend_movies(user_preferences, movies_df)\n",
    "\n",
    "# Display the recommended movies\n",
    "print(recommendations)\n"
   ]
  },
  {
   "cell_type": "code",
   "execution_count": null,
   "metadata": {},
   "outputs": [],
   "source": []
  }
 ],
 "metadata": {
  "kernelspec": {
   "display_name": "Python 3",
   "language": "python",
   "name": "python3"
  },
  "language_info": {
   "codemirror_mode": {
    "name": "ipython",
    "version": 3
   },
   "file_extension": ".py",
   "mimetype": "text/x-python",
   "name": "python",
   "nbconvert_exporter": "python",
   "pygments_lexer": "ipython3",
   "version": "3.10.12"
  },
  "orig_nbformat": 4
 },
 "nbformat": 4,
 "nbformat_minor": 2
}
